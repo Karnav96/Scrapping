{
 "cells": [
  {
   "cell_type": "code",
   "execution_count": 1,
   "metadata": {},
   "outputs": [],
   "source": [
    "import bs4"
   ]
  },
  {
   "cell_type": "code",
   "execution_count": 2,
   "metadata": {},
   "outputs": [],
   "source": [
    "from urllib.request import urlopen as uReq"
   ]
  },
  {
   "cell_type": "code",
   "execution_count": 9,
   "metadata": {},
   "outputs": [],
   "source": [
    "from bs4 import BeautifulSoup as soup"
   ]
  },
  {
   "cell_type": "code",
   "execution_count": 4,
   "metadata": {},
   "outputs": [],
   "source": [
    "my_url='https://www.amazon.in/dp/B07DJD1RTM?pf_rd_p=fa25496c-7d42-4f20-a958-cce32020b23e&pf_rd_r=3XGHBJRVG5QYGFMY141E'"
   ]
  },
  {
   "cell_type": "code",
   "execution_count": 5,
   "metadata": {},
   "outputs": [],
   "source": [
    "uClient=uReq(my_url)"
   ]
  },
  {
   "cell_type": "code",
   "execution_count": 6,
   "metadata": {},
   "outputs": [],
   "source": [
    "page_html=uClient.read()"
   ]
  },
  {
   "cell_type": "code",
   "execution_count": 7,
   "metadata": {},
   "outputs": [],
   "source": [
    "uClient.close()"
   ]
  },
  {
   "cell_type": "code",
   "execution_count": 10,
   "metadata": {},
   "outputs": [],
   "source": [
    "page_soup=soup(page_html,\"html.parser\")"
   ]
  },
  {
   "cell_type": "code",
   "execution_count": 11,
   "metadata": {},
   "outputs": [
    {
     "data": {
      "text/plain": [
       "<h1 class=\"a-size-large a-spacing-none\" id=\"title\">\n",
       "<span class=\"a-size-large\" id=\"productTitle\">\n",
       "                \n",
       "                    \n",
       "                    \n",
       "                \n",
       "\n",
       "                \n",
       "                    \n",
       "                    \n",
       "                        Vivo U10 (Electric Blue, 5000 mAH 18W Fast Charge Battery, 3GB RAM, 32GB Storage)\n",
       "                    \n",
       "                \n",
       "\n",
       "                \n",
       "                    \n",
       "                    \n",
       "                \n",
       "            </span>\n",
       "</h1>"
      ]
     },
     "execution_count": 11,
     "metadata": {},
     "output_type": "execute_result"
    }
   ],
   "source": [
    "page_soup.h1"
   ]
  },
  {
   "cell_type": "code",
   "execution_count": 12,
   "metadata": {},
   "outputs": [
    {
     "data": {
      "text/plain": [
       "<body class=\"a-aui_149818-c a-aui_152852-c a-aui_157141-c a-aui_158613-t1 a-aui_160684-t1 a-aui_57326-c a-aui_72554-c a-aui_accessibility_49860-c a-aui_attr_validations_1_51371-c a-aui_bolt_62845-c a-aui_pci_risk_banner_210084-c a-aui_perf_130093-c a-aui_tnr_v2_180836-c a-aui_ux_113788-c a-aui_ux_114039-c a-aui_ux_138741-c a-aui_ux_145937-c a-aui_ux_60000-c\"><div id=\"a-page\"><script data-a-state='{\"key\":\"a-wlab-states\"}' type=\"a-state\">{\"AUI_149818\":null,\"AUI_152852\":null,\"AUI_157141\":null,\"AUI_158613\":\"T1\",\"AUI_160684\":\"T1\",\"AUI_57326\":null,\"AUI_72554\":null,\"AUI_ACCESSIBILITY_49860\":null,\"AUI_ATTR_VALIDATIONS_1_51371\":null,\"AUI_BOLT_62845\":null,\"AUI_PCI_RISK_BANNER_210084\":\"C\",\"AUI_PERF_130093\":null,\"AUI_TNR_V2_180836\":null,\"AUI_UX_113788\":null,\"AUI_UX_114039\":null,\"AUI_UX_138741\":null,\"AUI_UX_145937\":null,\"AUI_UX_60000\":null}</script>\n",
       "<script> (typeof uet === 'function') && uet('bb') </script>\n",
       "<div class=\"wireless en_IN\" id=\"dp\">\n",
       "<script type=\"text/javascript\">\n",
       "\n",
       "  if(typeof P !== \"undefined\" && typeof P.when === \"function\"){\n",
       "    P.when('cf').execute(function() {\n",
       "          P.when('navbarJS-jQuery').execute(function(){});\n",
       "  P.when('finderFitsJS').execute(function(){});\n",
       "  P.when('twister').execute(function(){});\n",
       "  P.when('swfjs').execute(function(){});\n",
       "\n",
       "    });\n",
       "  }\n",
       "</script>\n",
       "<!-- BeginNav --><script type=\"text/javascript\">var nav_t_begin_nav = + new Date();</script><!-- NAVYAAN JS -->\n",
       "<script>\n",
       "(window.AmazonUIPageJS ? AmazonUIPageJS : P).when('navCF').execute(function() {\n",
       "  (window.AmazonUIPageJS ? AmazonUIPageJS : P).load.js('https://images-eu.ssl-images-amazon.com/images/I/41VXo8p0cmL._RC|7166e+eXZOL.js,61J7BJn2HyL.js,41W9ohA0e+L.js,11vrNkbdcvL.js,21qaguVEGfL.js,31S40+p9LcL.js,51YeRc8UK1L.js,313jWehHlpL.js_.js?AUIClients/AmazonNavigationDesktopMetaAsset#desktop');\n",
       "});\n",
       "</script>\n",
       "<!-- From remote config v3-->\n",
       "<script type=\"text/javascript\">\n",
       "(function(d){document.createElement(\"header\");function b(e){return[].slice.call(e)}function c(f,e){return{m:f,a:b(e)}}var a=function(f){var g={};g._sourceName=f;g._replay=[];g.getNow=function(i,h){return h};function e(i,h,j){i[j]=function(){g._replay.push(h.concat(c(j,arguments)))}}g.when=function(){var i=[c(\"when\",arguments)];var h={};e(h,i,\"run\");e(h,i,\"declare\");e(h,i,\"publish\");e(h,i,\"build\");return h};e(g,[],\"declare\");e(g,[],\"build\");e(g,[],\"publish\");e(g,[],\"importEvent\");a._shims.push(g);return g};a._shims=[];if(!d.$Nav){d.$Nav=a(\"rcx-nav\")}if(!d.$Nav.make){d.$Nav.make=a}}(window));\n",
       "$Nav.importEvent('navbarJS-beaconbelt');\n",
       "$Nav.declare('img.sprite', {\n",
       "  'png8': 'https://images-eu.ssl-images-amazon.com/images/G/31/gno/sprites/global-sprite_bluebeacon-v1._CB308130882_.png',\n",
       "  'png32': 'https://images-eu.ssl-images-amazon.com/images/G/31/gno/sprites/nav-sprite-global_bluebeacon-V3-1x_optimized._CB468962293_.png',\n",
       "  'png32-2x': 'https://images-eu.ssl-images-amazon.com/images/G/31/gno/sprites/nav-sprite-global_bluebeacon-V3-2x_optimized._CB468962293_.png'\n",
       "});\n",
       "$Nav.declare('img.timeline', {\n",
       "  'timeline-icon-2x': 'https://images-eu.ssl-images-amazon.com/images/G/31/gno/sprites/timeline_sprite_2x._CB443580980_.png'\n",
       "});\n",
       "window._navbarSpriteUrl = 'https://images-eu.ssl-images-amazon.com/images/G/31/gno/sprites/nav-sprite-global_bluebeacon-V3-1x_optimized._CB468962293_.png';\n",
       "$Nav.declare('img.pixel', 'https://images-eu.ssl-images-amazon.com/images/G/31/x-locale/common/transparent-pixel._CB386942716_.gif');\n",
       "</script>\n",
       "<img alt=\"\" src=\"https://images-eu.ssl-images-amazon.com/images/G/31/gno/sprites/nav-sprite-global_bluebeacon-V3-1x_optimized._CB468962293_.png\" style=\"display:none\"/>\n",
       "<!--[if IE 6]>\n",
       "<style type=\"text/css\"><!--\n",
       "  #navbar.nav-sprite-v3 .nav-sprite {\n",
       "    background-image: url(https://images-eu.ssl-images-amazon.com/images/G/31/gno/sprites/global-sprite_bluebeacon-v1._CB308130882_.png);\n",
       "  }\n",
       "--></div></div></body>"
      ]
     },
     "execution_count": 12,
     "metadata": {},
     "output_type": "execute_result"
    }
   ],
   "source": [
    "page_soup.body"
   ]
  }
 ],
 "metadata": {
  "kernelspec": {
   "display_name": "Python 3",
   "language": "python",
   "name": "python3"
  },
  "language_info": {
   "codemirror_mode": {
    "name": "ipython",
    "version": 3
   },
   "file_extension": ".py",
   "mimetype": "text/x-python",
   "name": "python",
   "nbconvert_exporter": "python",
   "pygments_lexer": "ipython3",
   "version": "3.7.4"
  }
 },
 "nbformat": 4,
 "nbformat_minor": 2
}
